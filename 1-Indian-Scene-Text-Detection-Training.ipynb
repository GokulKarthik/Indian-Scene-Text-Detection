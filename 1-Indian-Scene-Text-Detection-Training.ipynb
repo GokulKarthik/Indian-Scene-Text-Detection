{
 "cells": [
  {
   "cell_type": "markdown",
   "metadata": {},
   "source": [
    "# 1. Setup"
   ]
  },
  {
   "cell_type": "code",
   "execution_count": 1,
   "metadata": {},
   "outputs": [],
   "source": [
    "import os\n",
    "import yaml\n",
    "\n",
    "import numpy as np\n",
    "import pandas as pd\n",
    "import matplotlib.pyplot as plt\n",
    "import cv2\n",
    "import torch\n",
    "import torch.nn as nn\n",
    "import torch.nn.functional as F\n",
    "import torch.optim as optim\n",
    "from torch.utils.data import Dataset, DataLoader\n",
    "from torchvision import transforms\n",
    "import mlflow\n",
    "from mlflow import log_metric, log_param\n",
    "from tqdm.notebook import tqdm\n",
    "\n",
    "from model import UNet, EAST"
   ]
  },
  {
   "cell_type": "code",
   "execution_count": 2,
   "metadata": {},
   "outputs": [
    {
     "name": "stdout",
     "output_type": "stream",
     "text": [
      "{'data': {'dir': 'Data/Detection-Big', 'height': 320, 'width': 320, 'channels': 3, 'geometry_scale_factor': 64}, 'model': {'name': 'EAST', 'geometry': 'AABB', 'with_classification': False}, 'training': {'info': '', 'batch_size': 32, 'score_weights_auto': True, 'score_weights_woc': [1, 10], 'score_weights_wc': [1, 10, 10, 10, 10], 'lambda_score': 1, 'lambda_geometry': 1, 'lr': 0.001, 'lr_step_size': 5, 'lr_gamma': 0.5, 'weight_decay': 0.001, 'num_epochs': 30}, 'prediction': {'model_path': 'Models/EAST-Detector-e21.pth', 'device': 'cuda', 'batch_size': 4, 'score_threshold': 0.8, 'iou_threshold': 0.1}, 'evaluation': {'predictions_dir_name': 'Annotations-AABB-Pred-EAST-0.8-0.1', 'iou_threshold': 0.75}}\n"
     ]
    }
   ],
   "source": [
    "with open('config.yaml', 'r') as file:\n",
    "    config = yaml.load(file, Loader=yaml.FullLoader)\n",
    "print(config)"
   ]
  },
  {
   "cell_type": "code",
   "execution_count": 3,
   "metadata": {},
   "outputs": [
    {
     "name": "stdout",
     "output_type": "stream",
     "text": [
      "Data/Detection-Big/Train Data/Detection-Big/Val Data/Detection-Big/Test\n"
     ]
    }
   ],
   "source": [
    "train_dir = os.path.join(config['data']['dir'], 'Train')\n",
    "val_dir = os.path.join(config['data']['dir'], 'Val')\n",
    "test_dir = os.path.join(config['data']['dir'], 'Test')\n",
    "print(train_dir, val_dir, test_dir)"
   ]
  },
  {
   "cell_type": "code",
   "execution_count": 4,
   "metadata": {},
   "outputs": [
    {
     "name": "stdout",
     "output_type": "stream",
     "text": [
      "8\n",
      "cuda\n"
     ]
    }
   ],
   "source": [
    "num_cpus = os.cpu_count()\n",
    "print(num_cpus)\n",
    "device = \"cuda\" if torch.cuda.is_available() else \"cpu\"\n",
    "device = torch.device(device)\n",
    "print(device)"
   ]
  },
  {
   "cell_type": "code",
   "execution_count": 5,
   "metadata": {},
   "outputs": [],
   "source": [
    "image_height = config['data']['height']\n",
    "image_width = config['data']['width']"
   ]
  },
  {
   "cell_type": "markdown",
   "metadata": {},
   "source": [
    "# 2. Define dataset"
   ]
  },
  {
   "cell_type": "code",
   "execution_count": 6,
   "metadata": {},
   "outputs": [],
   "source": [
    "class DetectionDataset(Dataset):\n",
    "    \n",
    "    def __init__(self, data_dir, geometry, with_classification):\n",
    "        self.data_dir = data_dir\n",
    "        self.geometry = geometry\n",
    "        self.with_classification = with_classification\n",
    "        self.height = config['data']['height']\n",
    "        self.width = config['data']['width']\n",
    "        self.geometry_scale_factor = config['data']['geometry_scale_factor']\n",
    "        self.image_dir = os.path.join(self.data_dir, 'Images')\n",
    "        self.ann_dir = os.path.join(self.data_dir, f'Annotations-{geometry}')\n",
    "        self.image_fns = os.listdir(self.image_dir)\n",
    "        self.lang2id = {'Tamil':1, 'Hindi':2, 'Telugu':3, 'Malayalam':4, 'Punjabi':5, 'English':6}\n",
    "        self.id2lang = {v:k for k,v in self.lang2id.items()}\n",
    "        \n",
    "    def __len__(self):\n",
    "        return len(self.image_fns)\n",
    "    \n",
    "    def __getitem__(self, index):\n",
    "        image_fn = self.image_fns[index]\n",
    "        self.image_fn = image_fn\n",
    "        image_fp = os.path.join(self.image_dir, image_fn)\n",
    "        image = cv2.imread(image_fp)\n",
    "        x = self.image_transform(image)\n",
    "        \n",
    "        if self.with_classification:\n",
    "            lang_id = self.lang2id[image_fn.split('_')[0]]\n",
    "        else:\n",
    "            lang_id = 1\n",
    "            \n",
    "        ann_fn = f'{self.image_fns[index].split(\".\")[0]}.csv'\n",
    "        ann_fp = os.path.join(self.ann_dir, ann_fn)\n",
    "        ann_df = pd.read_csv(ann_fp)\n",
    "        y_score, y_geometry = self.ann_transform(ann_df, lang_id)\n",
    "        \n",
    "        return x, y_score, y_geometry\n",
    "    \n",
    "    def image_transform(self, image):\n",
    "        transform_ops = transforms.Compose([\n",
    "            transforms.ToTensor(),\n",
    "            transforms.Normalize(mean=(0.485, 0.456, 0.406), std=(0.229, 0.224, 0.225))\n",
    "        ])\n",
    "        return transform_ops(image)\n",
    "    \n",
    "    def image_transform_inverse(self, transformed_image):\n",
    "        transform_ops = transforms.Compose([\n",
    "            transforms.Normalize((-0.485/0.229, -0.456/0.224, -0.406/0.225), (1/0.229, 1/0.224, 1/0.225))\n",
    "        ])\n",
    "        return transform_ops(transformed_image)\n",
    "    \n",
    "    def ann_transform(self, ann_df, class_label, shift_ratio=0.3):\n",
    "        if self.geometry == 'AABB':\n",
    "            y_score = np.zeros((self.height, self.width))\n",
    "            for x, y, w, h in ann_df.values:\n",
    "                shift = shift_ratio * min(w, h)\n",
    "                x = int(x + shift)\n",
    "                y = int(y + shift)\n",
    "                w = int(w - 2*shift)\n",
    "                h = int(h - 2*shift)\n",
    "                y_score = cv2.rectangle(y_score, (x, y), (x+w, y+h), color=class_label, thickness=-1)\n",
    "            y_score = y_score.astype('int32')\n",
    "            \n",
    "            y_geometry = np.zeros((4, self.height, self.width))\n",
    "            for x, y, w, h in ann_df.values:\n",
    "                w = min(w, image_width-x-1)\n",
    "                h = min(h, image_height-y-1)\n",
    "                y_geometry[0, y:y+h+1, x:x+w+1] = np.array([list(range(w+1))]*(h+1)) # left \n",
    "                y_geometry[1, y:y+h+1, x:x+w+1] = np.array([list(range(h+1))]*(w+1)).T # top\n",
    "                y_geometry[2, y:y+h+1, x:x+w+1] = np.array([list(range(w+1))[::-1]]*(h+1)) # right \n",
    "                y_geometry[3, y:y+h+1, x:x+w+1] = np.array([list(range(h+1))[::-1]]*(w+1)).T # bottom\n",
    "            y_geometry = y_geometry / self.geometry_scale_factor\n",
    "\n",
    "        else: \n",
    "            raise NotImplementedError()\n",
    "        \n",
    "        return y_score, y_geometry"
   ]
  },
  {
   "cell_type": "code",
   "execution_count": 7,
   "metadata": {},
   "outputs": [
    {
     "name": "stdout",
     "output_type": "stream",
     "text": [
      "55000\n"
     ]
    }
   ],
   "source": [
    "geometry = config['model']['geometry']\n",
    "with_classification = config['model']['with_classification']\n",
    "trainset = DetectionDataset(train_dir, geometry=geometry, with_classification=with_classification)\n",
    "print(len(trainset))"
   ]
  },
  {
   "cell_type": "code",
   "execution_count": 9,
   "metadata": {},
   "outputs": [
    {
     "data": {
      "image/png": "[encoded data removed]",
      "text/plain": [
       "<Figure size 720x360 with 2 Axes>"
      ]
     },
     "metadata": {
      "needs_background": "light"
     },
     "output_type": "display_data"
    },
    {
     "data": {
      "image/png": "[encoded data removed]",
      "text/plain": [
       "<Figure size 1440x360 with 4 Axes>"
      ]
     },
     "metadata": {
      "needs_background": "light"
     },
     "output_type": "display_data"
    }
   ],
   "source": [
    "x, y_score, y_geometry = trainset[0]\n",
    "\n",
    "image = trainset.image_transform_inverse(x)\n",
    "image = np.transpose(image, (1, 2, 0))\n",
    "\n",
    "fig, axes = plt.subplots(1, 2, figsize=(10, 5)) # w, h\n",
    "axes[0].imshow(image)\n",
    "axes[1].imshow(y_score, cmap='gray')\n",
    "\n",
    "fig, axes = plt.subplots(1, 4, figsize=(20, 5))\n",
    "axes[0].imshow(y_geometry[0], cmap='gray')\n",
    "axes[1].imshow(y_geometry[1], cmap='gray')\n",
    "axes[2].imshow(y_geometry[2], cmap='gray')\n",
    "axes[3].imshow(y_geometry[3], cmap='gray')\n",
    "plt.show()"
   ]
  },
  {
   "cell_type": "markdown",
   "metadata": {},
   "source": [
    "# 3. Define loss"
   ]
  },
  {
   "cell_type": "code",
   "execution_count": 10,
   "metadata": {},
   "outputs": [],
   "source": [
    "def compute_score_loss(Y_score_pred_logits, Y_score, weights):\n",
    "    \"\"\"\n",
    "    Parameters:\n",
    "    -----------\n",
    "    Y_score_pred_logits : Tensor of shape(batch_size, num_classes, height, width)\n",
    "    Y_score : Tensor of shape(batch_size, height, width)\n",
    "    \"\"\"\n",
    "    if weights is None:\n",
    "        if with_classification:\n",
    "            beta = ((Y_score == 0).sum().float() / torch.numel(Y_score)).item() # % of background\n",
    "            weights = [1 - beta] + [beta] * 5\n",
    "            weights = torch.tensor(weights).float().to(device) \n",
    "            weights = weights / weights.sum()\n",
    "        else:\n",
    "            weights = (Y_score == 0).sum().float() / (Y_score > 0).sum().float()\n",
    "        \n",
    "    if with_classification:\n",
    "        criterion = nn.CrossEntropyLoss(weight=weights)\n",
    "        Y_score = Y_score.long()\n",
    "    else:\n",
    "        criterion = nn.BCEWithLogitsLoss(pos_weight=weights)\n",
    "        Y_score_pred_logits = torch.squeeze(Y_score_pred_logits, dim=1)\n",
    "        Y_score = Y_score.float()\n",
    "    score_loss = criterion(Y_score_pred_logits, Y_score)\n",
    "    return score_loss"
   ]
  },
  {
   "cell_type": "code",
   "execution_count": 11,
   "metadata": {},
   "outputs": [],
   "source": [
    "def compute_geometry_loss(Y_geometry_pred, Y_geometry, Y_score):\n",
    "    \"\"\"\n",
    "    Parameters:\n",
    "    -----------\n",
    "    Y_geometry_pred : Tensor of shape(batch_size, 4, height, width)\n",
    "    Y_geometry : Tensor of shape(batch_size, 4, height, width)\n",
    "    \"\"\"\n",
    "    left_pred = Y_geometry_pred[:, 0, :, :]\n",
    "    top_pred = Y_geometry_pred[:, 1, :, :]\n",
    "    right_pred = Y_geometry_pred[:, 2, :, :]\n",
    "    bottom_pred = Y_geometry_pred[:, 3, :, :]\n",
    "    \n",
    "    left = Y_geometry[:, 0, :, :].float()\n",
    "    top = Y_geometry[:, 1, :, :].float()\n",
    "    right = Y_geometry[:, 2, :, :].float()\n",
    "    bottom = Y_geometry[:, 3, :, :].float()\n",
    "    \n",
    "    prediction_area = (left_pred + right_pred) * (top_pred + bottom_pred)\n",
    "    actual_area = (left + right) * (top + bottom)\n",
    "    intersection_width = torch.min(left_pred, left) + torch.min(right_pred, right)\n",
    "    intersection_height = torch.min(top_pred, top) + torch.min(bottom_pred, bottom)\n",
    "    intersection_area = intersection_width * intersection_height\n",
    "    union_area = prediction_area + actual_area - intersection_area\n",
    "    \n",
    "    mask = [Y_score > 0]\n",
    "    intersection_area = intersection_area[mask]\n",
    "    union_area = union_area[mask]\n",
    "    iou = intersection_area / union_area\n",
    "    iou = torch.clamp(iou, min=0.01)\n",
    "    geometry_loss = -torch.log(iou)\n",
    "    geometry_loss = geometry_loss.mean()\n",
    "    \n",
    "    return geometry_loss"
   ]
  },
  {
   "cell_type": "markdown",
   "metadata": {},
   "source": [
    "# 4. Train the model"
   ]
  },
  {
   "cell_type": "code",
   "execution_count": 12,
   "metadata": {},
   "outputs": [],
   "source": [
    "batch_size = config['training']['batch_size']\n",
    "\n",
    "lambda_score = config['training']['lambda_score']\n",
    "lambda_geometry = config['training']['lambda_geometry']\n",
    "lr = config['training']['lr']\n",
    "lr_step_size = config['training']['lr_step_size']\n",
    "lr_gamma = config['training']['lr_gamma']\n",
    "weight_decay = config['training']['weight_decay']\n",
    "\n",
    "num_epochs = config['training']['num_epochs']\n",
    "print_every = num_epochs // 10"
   ]
  },
  {
   "cell_type": "code",
   "execution_count": 13,
   "metadata": {},
   "outputs": [
    {
     "name": "stdout",
     "output_type": "stream",
     "text": [
      "55000 1200\n",
      "1719 1200\n"
     ]
    }
   ],
   "source": [
    "trainset = DetectionDataset(train_dir, geometry=geometry, with_classification=with_classification)\n",
    "valset = DetectionDataset(val_dir, geometry=geometry, with_classification=with_classification)\n",
    "#testset = DetectionDataset(test_dir, geometry=geometry, with_classification=with_classification)\n",
    "print(len(trainset), len(valset))\n",
    "\n",
    "train_loader = DataLoader(trainset, batch_size=batch_size, shuffle=True, num_workers=num_cpus)\n",
    "val_loader = DataLoader(valset, batch_size=1, shuffle=False, num_workers=num_cpus)\n",
    "#test_loader = DataLoader(testset, batch_size=1, shuffle=False, num_workers=num_cpus)\n",
    "print(len(train_loader), len(val_loader))"
   ]
  },
  {
   "cell_type": "code",
   "execution_count": 14,
   "metadata": {},
   "outputs": [],
   "source": [
    "model_name = config['model']['name']\n",
    "geometry = config['model']['geometry']\n",
    "with_classification = config['model']['with_classification']\n",
    "\n",
    "if model_name == 'UNet':\n",
    "    model = UNet(image_width=image_width,\n",
    "                 geometry=geometry, \n",
    "                 with_classification=with_classification)\n",
    "elif model_name == 'EAST':\n",
    "    model = EAST(image_width=image_width, \n",
    "                 geometry=geometry, \n",
    "                 with_classification=with_classification)\n",
    "model = nn.DataParallel(model)\n",
    "model = model.to(device)"
   ]
  },
  {
   "cell_type": "code",
   "execution_count": 15,
   "metadata": {},
   "outputs": [
    {
     "name": "stdout",
     "output_type": "stream",
     "text": [
      "None\n"
     ]
    }
   ],
   "source": [
    "if with_classification:\n",
    "    score_weights = config['training']['score_weights_wc']\n",
    "else:\n",
    "    score_weights = config['training']['score_weights_woc']\n",
    "score_weights = torch.tensor(score_weights).float()\n",
    "score_weights = score_weights / score_weights.sum()\n",
    "score_weights = score_weights.to(device)\n",
    "if config['training']['score_weights_auto']:\n",
    "    score_weights = None\n",
    "print(score_weights)\n",
    "optimizer = optim.Adam(model.parameters(), lr=lr,  weight_decay=weight_decay)\n",
    "lr_scheduler = optim.lr_scheduler.StepLR(optimizer=optimizer, step_size=lr_step_size, gamma=lr_gamma)"
   ]
  },
  {
   "cell_type": "code",
   "execution_count": 16,
   "metadata": {},
   "outputs": [
    {
     "data": {
      "application/vnd.jupyter.widget-view+json": {
       "model_id": "a935bc54db9449f398bd65cf3e2bfee7",
       "version_major": 2,
       "version_minor": 0
      },
      "text/plain": [
       "HBox(children=(FloatProgress(value=0.0, max=30.0), HTML(value='')))"
      ]
     },
     "metadata": {},
     "output_type": "display_data"
    },
    {
     "data": {
      "application/vnd.jupyter.widget-view+json": {
       "model_id": "",
       "version_major": 2,
       "version_minor": 0
      },
      "text/plain": [
       "HBox(children=(FloatProgress(value=0.0, description='Epoch-1', max=1719.0, style=ProgressStyle(description_wid…"
      ]
     },
     "metadata": {},
     "output_type": "display_data"
    },
    {
     "data": {
      "application/vnd.jupyter.widget-view+json": {
       "model_id": "",
       "version_major": 2,
       "version_minor": 0
      },
      "text/plain": [
       "HBox(children=(FloatProgress(value=0.0, description='Val', max=1200.0, style=ProgressStyle(description_width='…"
      ]
     },
     "metadata": {},
     "output_type": "display_data"
    },
    {
     "data": {
      "application/vnd.jupyter.widget-view+json": {
       "model_id": "",
       "version_major": 2,
       "version_minor": 0
      },
      "text/plain": [
       "HBox(children=(FloatProgress(value=0.0, description='Epoch-2', max=1719.0, style=ProgressStyle(description_wid…"
      ]
     },
     "metadata": {},
     "output_type": "display_data"
    },
    {
     "data": {
      "application/vnd.jupyter.widget-view+json": {
       "model_id": "",
       "version_major": 2,
       "version_minor": 0
      },
      "text/plain": [
       "HBox(children=(FloatProgress(value=0.0, description='Val', max=1200.0, style=ProgressStyle(description_width='…"
      ]
     },
     "metadata": {},
     "output_type": "display_data"
    },
    {
     "data": {
      "application/vnd.jupyter.widget-view+json": {
       "model_id": "",
       "version_major": 2,
       "version_minor": 0
      },
      "text/plain": [
       "HBox(children=(FloatProgress(value=0.0, description='Epoch-3', max=1719.0, style=ProgressStyle(description_wid…"
      ]
     },
     "metadata": {},
     "output_type": "display_data"
    },
    {
     "data": {
      "application/vnd.jupyter.widget-view+json": {
       "model_id": "",
       "version_major": 2,
       "version_minor": 0
      },
      "text/plain": [
       "HBox(children=(FloatProgress(value=0.0, description='Val', max=1200.0, style=ProgressStyle(description_width='…"
      ]
     },
     "metadata": {},
     "output_type": "display_data"
    },
    {
     "name": "stdout",
     "output_type": "stream",
     "text": [
      "Epoch:3    TrainLoss:0.8686669424150211    ValLoss:0.9841909832631548    LR:0.0009999999999999543\n"
     ]
    },
    {
     "data": {
      "application/vnd.jupyter.widget-view+json": {
       "model_id": "",
       "version_major": 2,
       "version_minor": 0
      },
      "text/plain": [
       "HBox(children=(FloatProgress(value=0.0, description='Epoch-4', max=1719.0, style=ProgressStyle(description_wid…"
      ]
     },
     "metadata": {},
     "output_type": "display_data"
    },
    {
     "data": {
      "application/vnd.jupyter.widget-view+json": {
       "model_id": "",
       "version_major": 2,
       "version_minor": 0
      },
      "text/plain": [
       "HBox(children=(FloatProgress(value=0.0, description='Val', max=1200.0, style=ProgressStyle(description_width='…"
      ]
     },
     "metadata": {},
     "output_type": "display_data"
    },
    {
     "data": {
      "application/vnd.jupyter.widget-view+json": {
       "model_id": "",
       "version_major": 2,
       "version_minor": 0
      },
      "text/plain": [
       "HBox(children=(FloatProgress(value=0.0, description='Epoch-5', max=1719.0, style=ProgressStyle(description_wid…"
      ]
     },
     "metadata": {},
     "output_type": "display_data"
    },
    {
     "data": {
      "application/vnd.jupyter.widget-view+json": {
       "model_id": "",
       "version_major": 2,
       "version_minor": 0
      },
      "text/plain": [
       "HBox(children=(FloatProgress(value=0.0, description='Val', max=1200.0, style=ProgressStyle(description_width='…"
      ]
     },
     "metadata": {},
     "output_type": "display_data"
    },
    {
     "data": {
      "application/vnd.jupyter.widget-view+json": {
       "model_id": "",
       "version_major": 2,
       "version_minor": 0
      },
      "text/plain": [
       "HBox(children=(FloatProgress(value=0.0, description='Epoch-6', max=1719.0, style=ProgressStyle(description_wid…"
      ]
     },
     "metadata": {},
     "output_type": "display_data"
    },
    {
     "data": {
      "application/vnd.jupyter.widget-view+json": {
       "model_id": "",
       "version_major": 2,
       "version_minor": 0
      },
      "text/plain": [
       "HBox(children=(FloatProgress(value=0.0, description='Val', max=1200.0, style=ProgressStyle(description_width='…"
      ]
     },
     "metadata": {},
     "output_type": "display_data"
    },
    {
     "name": "stdout",
     "output_type": "stream",
     "text": [
      "Epoch:6    TrainLoss:0.7071332400312529    ValLoss:0.8062310828641057    LR:0.0004999999999999771\n"
     ]
    },
    {
     "data": {
      "application/vnd.jupyter.widget-view+json": {
       "model_id": "",
       "version_major": 2,
       "version_minor": 0
      },
      "text/plain": [
       "HBox(children=(FloatProgress(value=0.0, description='Epoch-7', max=1719.0, style=ProgressStyle(description_wid…"
      ]
     },
     "metadata": {},
     "output_type": "display_data"
    },
    {
     "data": {
      "application/vnd.jupyter.widget-view+json": {
       "model_id": "",
       "version_major": 2,
       "version_minor": 0
      },
      "text/plain": [
       "HBox(children=(FloatProgress(value=0.0, description='Val', max=1200.0, style=ProgressStyle(description_width='…"
      ]
     },
     "metadata": {},
     "output_type": "display_data"
    },
    {
     "data": {
      "application/vnd.jupyter.widget-view+json": {
       "model_id": "",
       "version_major": 2,
       "version_minor": 0
      },
      "text/plain": [
       "HBox(children=(FloatProgress(value=0.0, description='Epoch-8', max=1719.0, style=ProgressStyle(description_wid…"
      ]
     },
     "metadata": {},
     "output_type": "display_data"
    },
    {
     "data": {
      "application/vnd.jupyter.widget-view+json": {
       "model_id": "",
       "version_major": 2,
       "version_minor": 0
      },
      "text/plain": [
       "HBox(children=(FloatProgress(value=0.0, description='Val', max=1200.0, style=ProgressStyle(description_width='…"
      ]
     },
     "metadata": {},
     "output_type": "display_data"
    },
    {
     "data": {
      "application/vnd.jupyter.widget-view+json": {
       "model_id": "",
       "version_major": 2,
       "version_minor": 0
      },
      "text/plain": [
       "HBox(children=(FloatProgress(value=0.0, description='Epoch-9', max=1719.0, style=ProgressStyle(description_wid…"
      ]
     },
     "metadata": {},
     "output_type": "display_data"
    },
    {
     "data": {
      "application/vnd.jupyter.widget-view+json": {
       "model_id": "",
       "version_major": 2,
       "version_minor": 0
      },
      "text/plain": [
       "HBox(children=(FloatProgress(value=0.0, description='Val', max=1200.0, style=ProgressStyle(description_width='…"
      ]
     },
     "metadata": {},
     "output_type": "display_data"
    },
    {
     "name": "stdout",
     "output_type": "stream",
     "text": [
      "Epoch:9    TrainLoss:0.6619028235119814    ValLoss:0.7442975931614637    LR:0.0004999999999999771\n"
     ]
    },
    {
     "data": {
      "application/vnd.jupyter.widget-view+json": {
       "model_id": "",
       "version_major": 2,
       "version_minor": 0
      },
      "text/plain": [
       "HBox(children=(FloatProgress(value=0.0, description='Epoch-10', max=1719.0, style=ProgressStyle(description_wi…"
      ]
     },
     "metadata": {},
     "output_type": "display_data"
    },
    {
     "data": {
      "application/vnd.jupyter.widget-view+json": {
       "model_id": "",
       "version_major": 2,
       "version_minor": 0
      },
      "text/plain": [
       "HBox(children=(FloatProgress(value=0.0, description='Val', max=1200.0, style=ProgressStyle(description_width='…"
      ]
     },
     "metadata": {},
     "output_type": "display_data"
    },
    {
     "data": {
      "application/vnd.jupyter.widget-view+json": {
       "model_id": "",
       "version_major": 2,
       "version_minor": 0
      },
      "text/plain": [
       "HBox(children=(FloatProgress(value=0.0, description='Epoch-11', max=1719.0, style=ProgressStyle(description_wi…"
      ]
     },
     "metadata": {},
     "output_type": "display_data"
    },
    {
     "data": {
      "application/vnd.jupyter.widget-view+json": {
       "model_id": "",
       "version_major": 2,
       "version_minor": 0
      },
      "text/plain": [
       "HBox(children=(FloatProgress(value=0.0, description='Val', max=1200.0, style=ProgressStyle(description_width='…"
      ]
     },
     "metadata": {},
     "output_type": "display_data"
    },
    {
     "data": {
      "application/vnd.jupyter.widget-view+json": {
       "model_id": "",
       "version_major": 2,
       "version_minor": 0
      },
      "text/plain": [
       "HBox(children=(FloatProgress(value=0.0, description='Epoch-12', max=1719.0, style=ProgressStyle(description_wi…"
      ]
     },
     "metadata": {},
     "output_type": "display_data"
    },
    {
     "data": {
      "application/vnd.jupyter.widget-view+json": {
       "model_id": "",
       "version_major": 2,
       "version_minor": 0
      },
      "text/plain": [
       "HBox(children=(FloatProgress(value=0.0, description='Val', max=1200.0, style=ProgressStyle(description_width='…"
      ]
     },
     "metadata": {},
     "output_type": "display_data"
    },
    {
     "name": "stdout",
     "output_type": "stream",
     "text": [
      "Epoch:12    TrainLoss:0.587569820873955    ValLoss:0.6816642058889071    LR:0.00024999999999998857\n"
     ]
    },
    {
     "data": {
      "application/vnd.jupyter.widget-view+json": {
       "model_id": "",
       "version_major": 2,
       "version_minor": 0
      },
      "text/plain": [
       "HBox(children=(FloatProgress(value=0.0, description='Epoch-13', max=1719.0, style=ProgressStyle(description_wi…"
      ]
     },
     "metadata": {},
     "output_type": "display_data"
    },
    {
     "data": {
      "application/vnd.jupyter.widget-view+json": {
       "model_id": "",
       "version_major": 2,
       "version_minor": 0
      },
      "text/plain": [
       "HBox(children=(FloatProgress(value=0.0, description='Val', max=1200.0, style=ProgressStyle(description_width='…"
      ]
     },
     "metadata": {},
     "output_type": "display_data"
    },
    {
     "data": {
      "application/vnd.jupyter.widget-view+json": {
       "model_id": "",
       "version_major": 2,
       "version_minor": 0
      },
      "text/plain": [
       "HBox(children=(FloatProgress(value=0.0, description='Epoch-14', max=1719.0, style=ProgressStyle(description_wi…"
      ]
     },
     "metadata": {},
     "output_type": "display_data"
    },
    {
     "data": {
      "application/vnd.jupyter.widget-view+json": {
       "model_id": "",
       "version_major": 2,
       "version_minor": 0
      },
      "text/plain": [
       "HBox(children=(FloatProgress(value=0.0, description='Val', max=1200.0, style=ProgressStyle(description_width='…"
      ]
     },
     "metadata": {},
     "output_type": "display_data"
    },
    {
     "data": {
      "application/vnd.jupyter.widget-view+json": {
       "model_id": "",
       "version_major": 2,
       "version_minor": 0
      },
      "text/plain": [
       "HBox(children=(FloatProgress(value=0.0, description='Epoch-15', max=1719.0, style=ProgressStyle(description_wi…"
      ]
     },
     "metadata": {},
     "output_type": "display_data"
    },
    {
     "data": {
      "application/vnd.jupyter.widget-view+json": {
       "model_id": "",
       "version_major": 2,
       "version_minor": 0
      },
      "text/plain": [
       "HBox(children=(FloatProgress(value=0.0, description='Val', max=1200.0, style=ProgressStyle(description_width='…"
      ]
     },
     "metadata": {},
     "output_type": "display_data"
    },
    {
     "name": "stdout",
     "output_type": "stream",
     "text": [
      "Epoch:15    TrainLoss:0.5636690291920119    ValLoss:0.7811373036106427    LR:0.00024999999999998857\n"
     ]
    },
    {
     "data": {
      "application/vnd.jupyter.widget-view+json": {
       "model_id": "",
       "version_major": 2,
       "version_minor": 0
      },
      "text/plain": [
       "HBox(children=(FloatProgress(value=0.0, description='Epoch-16', max=1719.0, style=ProgressStyle(description_wi…"
      ]
     },
     "metadata": {},
     "output_type": "display_data"
    },
    {
     "data": {
      "application/vnd.jupyter.widget-view+json": {
       "model_id": "",
       "version_major": 2,
       "version_minor": 0
      },
      "text/plain": [
       "HBox(children=(FloatProgress(value=0.0, description='Val', max=1200.0, style=ProgressStyle(description_width='…"
      ]
     },
     "metadata": {},
     "output_type": "display_data"
    },
    {
     "data": {
      "application/vnd.jupyter.widget-view+json": {
       "model_id": "",
       "version_major": 2,
       "version_minor": 0
      },
      "text/plain": [
       "HBox(children=(FloatProgress(value=0.0, description='Epoch-17', max=1719.0, style=ProgressStyle(description_wi…"
      ]
     },
     "metadata": {},
     "output_type": "display_data"
    },
    {
     "data": {
      "application/vnd.jupyter.widget-view+json": {
       "model_id": "",
       "version_major": 2,
       "version_minor": 0
      },
      "text/plain": [
       "HBox(children=(FloatProgress(value=0.0, description='Val', max=1200.0, style=ProgressStyle(description_width='…"
      ]
     },
     "metadata": {},
     "output_type": "display_data"
    },
    {
     "data": {
      "application/vnd.jupyter.widget-view+json": {
       "model_id": "",
       "version_major": 2,
       "version_minor": 0
      },
      "text/plain": [
       "HBox(children=(FloatProgress(value=0.0, description='Epoch-18', max=1719.0, style=ProgressStyle(description_wi…"
      ]
     },
     "metadata": {},
     "output_type": "display_data"
    },
    {
     "data": {
      "application/vnd.jupyter.widget-view+json": {
       "model_id": "",
       "version_major": 2,
       "version_minor": 0
      },
      "text/plain": [
       "HBox(children=(FloatProgress(value=0.0, description='Val', max=1200.0, style=ProgressStyle(description_width='…"
      ]
     },
     "metadata": {},
     "output_type": "display_data"
    },
    {
     "name": "stdout",
     "output_type": "stream",
     "text": [
      "Epoch:18    TrainLoss:0.5123297530006988    ValLoss:0.7168117138867577    LR:0.00012499999999999428\n"
     ]
    },
    {
     "data": {
      "application/vnd.jupyter.widget-view+json": {
       "model_id": "",
       "version_major": 2,
       "version_minor": 0
      },
      "text/plain": [
       "HBox(children=(FloatProgress(value=0.0, description='Epoch-19', max=1719.0, style=ProgressStyle(description_wi…"
      ]
     },
     "metadata": {},
     "output_type": "display_data"
    },
    {
     "data": {
      "application/vnd.jupyter.widget-view+json": {
       "model_id": "",
       "version_major": 2,
       "version_minor": 0
      },
      "text/plain": [
       "HBox(children=(FloatProgress(value=0.0, description='Val', max=1200.0, style=ProgressStyle(description_width='…"
      ]
     },
     "metadata": {},
     "output_type": "display_data"
    },
    {
     "data": {
      "application/vnd.jupyter.widget-view+json": {
       "model_id": "",
       "version_major": 2,
       "version_minor": 0
      },
      "text/plain": [
       "HBox(children=(FloatProgress(value=0.0, description='Epoch-20', max=1719.0, style=ProgressStyle(description_wi…"
      ]
     },
     "metadata": {},
     "output_type": "display_data"
    },
    {
     "data": {
      "application/vnd.jupyter.widget-view+json": {
       "model_id": "",
       "version_major": 2,
       "version_minor": 0
      },
      "text/plain": [
       "HBox(children=(FloatProgress(value=0.0, description='Val', max=1200.0, style=ProgressStyle(description_width='…"
      ]
     },
     "metadata": {},
     "output_type": "display_data"
    },
    {
     "data": {
      "application/vnd.jupyter.widget-view+json": {
       "model_id": "",
       "version_major": 2,
       "version_minor": 0
      },
      "text/plain": [
       "HBox(children=(FloatProgress(value=0.0, description='Epoch-21', max=1719.0, style=ProgressStyle(description_wi…"
      ]
     },
     "metadata": {},
     "output_type": "display_data"
    },
    {
     "data": {
      "application/vnd.jupyter.widget-view+json": {
       "model_id": "",
       "version_major": 2,
       "version_minor": 0
      },
      "text/plain": [
       "HBox(children=(FloatProgress(value=0.0, description='Val', max=1200.0, style=ProgressStyle(description_width='…"
      ]
     },
     "metadata": {},
     "output_type": "display_data"
    },
    {
     "name": "stdout",
     "output_type": "stream",
     "text": [
      "Epoch:21    TrainLoss:0.47668092619408836    ValLoss:0.7464421773515642    LR:6.249999999999714e-05\n"
     ]
    },
    {
     "data": {
      "application/vnd.jupyter.widget-view+json": {
       "model_id": "",
       "version_major": 2,
       "version_minor": 0
      },
      "text/plain": [
       "HBox(children=(FloatProgress(value=0.0, description='Epoch-22', max=1719.0, style=ProgressStyle(description_wi…"
      ]
     },
     "metadata": {},
     "output_type": "display_data"
    },
    {
     "data": {
      "application/vnd.jupyter.widget-view+json": {
       "model_id": "",
       "version_major": 2,
       "version_minor": 0
      },
      "text/plain": [
       "HBox(children=(FloatProgress(value=0.0, description='Val', max=1200.0, style=ProgressStyle(description_width='…"
      ]
     },
     "metadata": {},
     "output_type": "display_data"
    },
    {
     "data": {
      "application/vnd.jupyter.widget-view+json": {
       "model_id": "",
       "version_major": 2,
       "version_minor": 0
      },
      "text/plain": [
       "HBox(children=(FloatProgress(value=0.0, description='Epoch-23', max=1719.0, style=ProgressStyle(description_wi…"
      ]
     },
     "metadata": {},
     "output_type": "display_data"
    },
    {
     "data": {
      "application/vnd.jupyter.widget-view+json": {
       "model_id": "",
       "version_major": 2,
       "version_minor": 0
      },
      "text/plain": [
       "HBox(children=(FloatProgress(value=0.0, description='Val', max=1200.0, style=ProgressStyle(description_width='…"
      ]
     },
     "metadata": {},
     "output_type": "display_data"
    },
    {
     "data": {
      "application/vnd.jupyter.widget-view+json": {
       "model_id": "",
       "version_major": 2,
       "version_minor": 0
      },
      "text/plain": [
       "HBox(children=(FloatProgress(value=0.0, description='Epoch-24', max=1719.0, style=ProgressStyle(description_wi…"
      ]
     },
     "metadata": {},
     "output_type": "display_data"
    },
    {
     "data": {
      "application/vnd.jupyter.widget-view+json": {
       "model_id": "",
       "version_major": 2,
       "version_minor": 0
      },
      "text/plain": [
       "HBox(children=(FloatProgress(value=0.0, description='Val', max=1200.0, style=ProgressStyle(description_width='…"
      ]
     },
     "metadata": {},
     "output_type": "display_data"
    },
    {
     "name": "stdout",
     "output_type": "stream",
     "text": [
      "Epoch:24    TrainLoss:0.4648326183384834    ValLoss:0.7782158115319908    LR:6.249999999999714e-05\n"
     ]
    },
    {
     "data": {
      "application/vnd.jupyter.widget-view+json": {
       "model_id": "",
       "version_major": 2,
       "version_minor": 0
      },
      "text/plain": [
       "HBox(children=(FloatProgress(value=0.0, description='Epoch-25', max=1719.0, style=ProgressStyle(description_wi…"
      ]
     },
     "metadata": {},
     "output_type": "display_data"
    },
    {
     "data": {
      "application/vnd.jupyter.widget-view+json": {
       "model_id": "",
       "version_major": 2,
       "version_minor": 0
      },
      "text/plain": [
       "HBox(children=(FloatProgress(value=0.0, description='Val', max=1200.0, style=ProgressStyle(description_width='…"
      ]
     },
     "metadata": {},
     "output_type": "display_data"
    },
    {
     "data": {
      "application/vnd.jupyter.widget-view+json": {
       "model_id": "",
       "version_major": 2,
       "version_minor": 0
      },
      "text/plain": [
       "HBox(children=(FloatProgress(value=0.0, description='Epoch-26', max=1719.0, style=ProgressStyle(description_wi…"
      ]
     },
     "metadata": {},
     "output_type": "display_data"
    },
    {
     "data": {
      "application/vnd.jupyter.widget-view+json": {
       "model_id": "",
       "version_major": 2,
       "version_minor": 0
      },
      "text/plain": [
       "HBox(children=(FloatProgress(value=0.0, description='Val', max=1200.0, style=ProgressStyle(description_width='…"
      ]
     },
     "metadata": {},
     "output_type": "display_data"
    },
    {
     "data": {
      "application/vnd.jupyter.widget-view+json": {
       "model_id": "",
       "version_major": 2,
       "version_minor": 0
      },
      "text/plain": [
       "HBox(children=(FloatProgress(value=0.0, description='Epoch-27', max=1719.0, style=ProgressStyle(description_wi…"
      ]
     },
     "metadata": {},
     "output_type": "display_data"
    },
    {
     "data": {
      "application/vnd.jupyter.widget-view+json": {
       "model_id": "",
       "version_major": 2,
       "version_minor": 0
      },
      "text/plain": [
       "HBox(children=(FloatProgress(value=0.0, description='Val', max=1200.0, style=ProgressStyle(description_width='…"
      ]
     },
     "metadata": {},
     "output_type": "display_data"
    },
    {
     "name": "stdout",
     "output_type": "stream",
     "text": [
      "Epoch:27    TrainLoss:0.44474028032695645    ValLoss:0.752852061248074    LR:3.124999999999857e-05\n"
     ]
    },
    {
     "data": {
      "application/vnd.jupyter.widget-view+json": {
       "model_id": "",
       "version_major": 2,
       "version_minor": 0
      },
      "text/plain": [
       "HBox(children=(FloatProgress(value=0.0, description='Epoch-28', max=1719.0, style=ProgressStyle(description_wi…"
      ]
     },
     "metadata": {},
     "output_type": "display_data"
    },
    {
     "data": {
      "application/vnd.jupyter.widget-view+json": {
       "model_id": "",
       "version_major": 2,
       "version_minor": 0
      },
      "text/plain": [
       "HBox(children=(FloatProgress(value=0.0, description='Val', max=1200.0, style=ProgressStyle(description_width='…"
      ]
     },
     "metadata": {},
     "output_type": "display_data"
    },
    {
     "data": {
      "application/vnd.jupyter.widget-view+json": {
       "model_id": "",
       "version_major": 2,
       "version_minor": 0
      },
      "text/plain": [
       "HBox(children=(FloatProgress(value=0.0, description='Epoch-29', max=1719.0, style=ProgressStyle(description_wi…"
      ]
     },
     "metadata": {},
     "output_type": "display_data"
    },
    {
     "data": {
      "application/vnd.jupyter.widget-view+json": {
       "model_id": "",
       "version_major": 2,
       "version_minor": 0
      },
      "text/plain": [
       "HBox(children=(FloatProgress(value=0.0, description='Val', max=1200.0, style=ProgressStyle(description_width='…"
      ]
     },
     "metadata": {},
     "output_type": "display_data"
    },
    {
     "data": {
      "application/vnd.jupyter.widget-view+json": {
       "model_id": "",
       "version_major": 2,
       "version_minor": 0
      },
      "text/plain": [
       "HBox(children=(FloatProgress(value=0.0, description='Epoch-30', max=1719.0, style=ProgressStyle(description_wi…"
      ]
     },
     "metadata": {},
     "output_type": "display_data"
    },
    {
     "data": {
      "application/vnd.jupyter.widget-view+json": {
       "model_id": "",
       "version_major": 2,
       "version_minor": 0
      },
      "text/plain": [
       "HBox(children=(FloatProgress(value=0.0, description='Val', max=1200.0, style=ProgressStyle(description_width='…"
      ]
     },
     "metadata": {},
     "output_type": "display_data"
    },
    {
     "name": "stdout",
     "output_type": "stream",
     "text": [
      "Epoch:30    TrainLoss:0.4384460506257517    ValLoss:0.7819809325536092    LR:3.124999999999857e-05\n",
      "\n"
     ]
    }
   ],
   "source": [
    "iteration_losses = []\n",
    "iteration_lrs = []\n",
    "epoch_losses = []\n",
    "epoch_losses_val = []\n",
    "epoch_lrs = []\n",
    "with mlflow.start_run():\n",
    "    \n",
    "    log_param('info', config['training']['info'])\n",
    "    log_param('model_name', model_name)\n",
    "    log_param('batch_size', batch_size)\n",
    "    log_param('lambda_score', lambda_score)\n",
    "    log_param('lambda_geometry', lambda_geometry)\n",
    "    log_param('lr', lr)\n",
    "    log_param('lr_step_size', lr_step_size)\n",
    "    log_param('lr_gamma', lr_gamma)\n",
    "    log_param('weight_decay', weight_decay)\n",
    "    log_param('num_epochs', num_epochs)\n",
    "    \n",
    "    for epoch in tqdm(range(1, num_epochs+1)):\n",
    "        epoch_loss, epoch_score_loss, epoch_geometry_loss = 0, 0, 0\n",
    "        epoch_loss_val, epoch_score_loss_val, epoch_geometry_loss_val = 0, 0, 0\n",
    "        epoch_lr = 0\n",
    "\n",
    "        model.train()\n",
    "        for X, Y_score, Y_geometry in tqdm(train_loader, desc=\"Epoch-{}\".format(epoch), leave=False):\n",
    "            if model_name == 'EAST':\n",
    "                Y_score = Y_score[:, ::4, ::4] # [-1, 4, h/4, w/4]\n",
    "                Y_geometry = Y_geometry[:, :, ::4, ::4] / 4 # [-1, 4, h/4, w/4]\n",
    "            \n",
    "            X = X.to(device)\n",
    "            Y_score = Y_score.to(device)\n",
    "            Y_geometry = Y_geometry.to(device)\n",
    "\n",
    "            optimizer.zero_grad()\n",
    "            Y_score_pred_logits, Y_geometry_pred, _ = model(X)\n",
    "            score_loss = compute_score_loss(Y_score_pred_logits, Y_score, score_weights)\n",
    "            geometry_loss = compute_geometry_loss(Y_geometry_pred, Y_geometry, Y_score)\n",
    "            loss = lambda_score * score_loss + lambda_geometry * geometry_loss\n",
    "            log_metric('iteration_score_loss', score_loss.item())\n",
    "            log_metric('iteration_geometry_loss', geometry_loss.item())\n",
    "            log_metric('iteration_loss', loss.item())\n",
    "            loss.backward()\n",
    "            optimizer.step()\n",
    "\n",
    "            iteration_losses.append(loss.item())\n",
    "            iteration_lrs.append(lr_scheduler.get_last_lr()[0])\n",
    "            epoch_score_loss += score_loss.item()\n",
    "            epoch_geometry_loss += geometry_loss.item()\n",
    "            epoch_loss += loss.item()\n",
    "            epoch_lr += lr_scheduler.get_last_lr()[0]\n",
    "\n",
    "        model.eval()\n",
    "        for X, Y_score, Y_geometry in tqdm(val_loader, desc=\"Val\", leave=False):\n",
    "            if model_name == 'EAST':\n",
    "                Y_score = Y_score[:, ::4, ::4] # [-1, h/4, w/4]\n",
    "                Y_geometry = Y_geometry[:, :, ::4, ::4] / 4 # [-1, 4, h/4, w/4]\n",
    "                \n",
    "            X = X.to(device)\n",
    "            Y_score = Y_score.to(device)\n",
    "            Y_geometry = Y_geometry.to(device)\n",
    "\n",
    "            Y_score_pred_logits, Y_geometry_pred, _ = model(X)\n",
    "            score_loss = compute_score_loss(Y_score_pred_logits, Y_score, score_weights)\n",
    "            geometry_loss = compute_geometry_loss(Y_geometry_pred, Y_geometry, Y_score)\n",
    "            loss = lambda_score * score_loss + lambda_geometry * geometry_loss\n",
    "\n",
    "            epoch_score_loss_val += score_loss.item()\n",
    "            epoch_geometry_loss_val += geometry_loss.item()\n",
    "            epoch_loss_val += loss.item()\n",
    "\n",
    "        lr_scheduler.step()\n",
    "        epoch_score_loss /= len(train_loader)\n",
    "        epoch_geometry_loss /= len(train_loader)\n",
    "        epoch_loss /= len(train_loader)\n",
    "        epoch_score_loss_val /= len(val_loader)\n",
    "        epoch_geometry_loss_val /= len(val_loader)\n",
    "        epoch_loss_val /= len(val_loader)\n",
    "        epoch_lr /= len(train_loader)\n",
    "        epoch_losses.append(epoch_loss)\n",
    "        epoch_losses_val.append(epoch_loss_val)\n",
    "        epoch_lrs.append(epoch_lr)\n",
    "\n",
    "        log_metric('epoch_score_loss', epoch_score_loss)\n",
    "        log_metric('epoch_geometry_loss', epoch_geometry_loss)\n",
    "        log_metric('epoch_loss', epoch_loss)\n",
    "        log_metric('epoch_score_loss_val', epoch_score_loss_val)\n",
    "        log_metric('epoch_geometry_loss_val', epoch_geometry_loss_val)\n",
    "        log_metric('epoch_loss_val', epoch_loss_val)\n",
    "        if epoch % print_every == 0:    \n",
    "            message = \"Epoch:{}    TrainLoss:{}    ValLoss:{}    LR:{}\".format(epoch, \n",
    "                                                                               epoch_loss, \n",
    "                                                                               epoch_loss_val, \n",
    "                                                                               epoch_lr)\n",
    "            model_path = f'Models/{model_name}-Detector-e{epoch}.pth'\n",
    "            torch.save(model.module.state_dict(), model_path)\n",
    "            print(message)"
   ]
  },
  {
   "cell_type": "code",
   "execution_count": 17,
   "metadata": {},
   "outputs": [
    {
     "data": {
      "image/png": "[encoded data removed]",
      "text/plain": [
       "<Figure size 720x360 with 2 Axes>"
      ]
     },
     "metadata": {
      "needs_background": "light"
     },
     "output_type": "display_data"
    }
   ],
   "source": [
    "fig, (ax1, ax2) = plt.subplots(1, 2, figsize=(10, 5))\n",
    "\n",
    "ax1.plot(epoch_losses, label='Train')\n",
    "ax1.plot(epoch_losses_val, label='Val')\n",
    "ax1.set_xlabel('Epochs')\n",
    "ax1.set_ylabel('Loss')\n",
    "ax1.legend()\n",
    "\n",
    "ax2.plot(iteration_losses, label='Train')\n",
    "ax2.set_xlabel('Iterations')\n",
    "ax2.set_ylabel('Loss')\n",
    "ax2.legend()\n",
    "\n",
    "plt.show()"
   ]
  }
 ],
 "metadata": {
  "kernelspec": {
   "display_name": "Python 3",
   "language": "python",
   "name": "python3"
  },
  "language_info": {
   "codemirror_mode": {
    "name": "ipython",
    "version": 3
   },
   "file_extension": ".py",
   "mimetype": "text/x-python",
   "name": "python",
   "nbconvert_exporter": "python",
   "pygments_lexer": "ipython3",
   "version": "3.7.6"
  }
 },
 "nbformat": 4,
 "nbformat_minor": 4
}
