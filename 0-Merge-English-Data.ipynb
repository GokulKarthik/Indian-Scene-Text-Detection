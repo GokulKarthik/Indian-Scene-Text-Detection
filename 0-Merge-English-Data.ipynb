{
 "cells": [
  {
   "cell_type": "code",
   "execution_count": 1,
   "metadata": {},
   "outputs": [],
   "source": [
    "import os\n",
    "import shutil"
   ]
  },
  {
   "cell_type": "code",
   "execution_count": 2,
   "metadata": {},
   "outputs": [],
   "source": [
    "detection_dir = 'Data/Detection'\n",
    "detection_dir_big = 'Data/Detection-Big'\n",
    "detection_dir_english = 'Data/Detection-English'"
   ]
  },
  {
   "cell_type": "markdown",
   "metadata": {},
   "source": [
    "# Add `D1-English` with `D1`"
   ]
  },
  {
   "cell_type": "code",
   "execution_count": 3,
   "metadata": {},
   "outputs": [
    {
     "name": "stdout",
     "output_type": "stream",
     "text": [
      "10000\n",
      "10000\n",
      "10000\n"
     ]
    }
   ],
   "source": [
    "print(len(os.listdir(detection_dir+'/Train/Images')))\n",
    "print(len(os.listdir(detection_dir+'/Train/Annotations-AABB')))\n",
    "print(len(os.listdir(detection_dir+'/Train/Annotations-QUAD')))"
   ]
  },
  {
   "cell_type": "code",
   "execution_count": 4,
   "metadata": {},
   "outputs": [],
   "source": [
    "splits = ['Train', 'Val', 'Test']\n",
    "sub_folders = ['Images', 'Annotations-AABB', 'Annotations-QUAD']\n",
    "for split in splits:\n",
    "    for sub_folder in sub_folders:\n",
    "        src_dir = os.path.join(detection_dir_english, split, sub_folder)\n",
    "        dest_dir = os.path.join(detection_dir, split, sub_folder)\n",
    "        for file_name in os.listdir(src_dir):\n",
    "            src_file_path = os.path.join(src_dir, file_name)\n",
    "            dest_file_path = os.path.join(dest_dir, file_name)\n",
    "            shutil.copyfile(src_file_path, dest_file_path)"
   ]
  },
  {
   "cell_type": "code",
   "execution_count": 5,
   "metadata": {},
   "outputs": [
    {
     "name": "stdout",
     "output_type": "stream",
     "text": [
      "11000\n",
      "11000\n",
      "11000\n"
     ]
    }
   ],
   "source": [
    "print(len(os.listdir(detection_dir+'/Train/Images')))\n",
    "print(len(os.listdir(detection_dir+'/Train/Annotations-AABB')))\n",
    "print(len(os.listdir(detection_dir+'/Train/Annotations-QUAD')))"
   ]
  },
  {
   "cell_type": "markdown",
   "metadata": {},
   "source": [
    "# Add `D1-English`(5X) with `D1-Big`"
   ]
  },
  {
   "cell_type": "code",
   "execution_count": 6,
   "metadata": {},
   "outputs": [
    {
     "name": "stdout",
     "output_type": "stream",
     "text": [
      "50000\n",
      "50000\n",
      "50000\n"
     ]
    }
   ],
   "source": [
    "print(len(os.listdir(detection_dir_big+'/Train/Images')))\n",
    "print(len(os.listdir(detection_dir_big+'/Train/Annotations-AABB')))\n",
    "print(len(os.listdir(detection_dir_big+'/Train/Annotations-QUAD')))"
   ]
  },
  {
   "cell_type": "code",
   "execution_count": 7,
   "metadata": {},
   "outputs": [
    {
     "name": "stdout",
     "output_type": "stream",
     "text": [
      "1000\n",
      "1000\n",
      "1000\n"
     ]
    }
   ],
   "source": [
    "print(len(os.listdir(detection_dir_big+'/Val/Images')))\n",
    "print(len(os.listdir(detection_dir_big+'/Val/Annotations-AABB')))\n",
    "print(len(os.listdir(detection_dir_big+'/Val/Annotations-QUAD')))"
   ]
  },
  {
   "cell_type": "code",
   "execution_count": 8,
   "metadata": {},
   "outputs": [
    {
     "name": "stdout",
     "output_type": "stream",
     "text": [
      "1000\n",
      "1000\n",
      "1000\n"
     ]
    }
   ],
   "source": [
    "print(len(os.listdir(detection_dir_big+'/Test/Images')))\n",
    "print(len(os.listdir(detection_dir_big+'/Test/Annotations-AABB')))\n",
    "print(len(os.listdir(detection_dir_big+'/Test/Annotations-QUAD')))"
   ]
  },
  {
   "cell_type": "code",
   "execution_count": 10,
   "metadata": {},
   "outputs": [],
   "source": [
    "splits = ['Val', 'Test']\n",
    "sub_folders = ['Images', 'Annotations-AABB', 'Annotations-QUAD']\n",
    "for split in splits:\n",
    "    for sub_folder in sub_folders:\n",
    "        src_dir = os.path.join(detection_dir_english, split, sub_folder)\n",
    "        dest_dir = os.path.join(detection_dir_big, split, sub_folder)\n",
    "        for file_name in os.listdir(src_dir):\n",
    "            src_file_path = os.path.join(src_dir, file_name)\n",
    "            dest_file_path = os.path.join(dest_dir, file_name)\n",
    "            shutil.copyfile(src_file_path, dest_file_path)"
   ]
  },
  {
   "cell_type": "code",
   "execution_count": 11,
   "metadata": {},
   "outputs": [],
   "source": [
    "splits = ['Train']\n",
    "sub_folders = ['Images', 'Annotations-AABB', 'Annotations-QUAD']\n",
    "for split in splits:\n",
    "    for sub_folder in sub_folders:\n",
    "        src_dir = os.path.join(detection_dir_english, split, sub_folder)\n",
    "        dest_dir = os.path.join(detection_dir_big, split, sub_folder)\n",
    "        for file_name in os.listdir(src_dir):\n",
    "            src_file_path = os.path.join(src_dir, file_name)\n",
    "            for i in range(1, 5+1):\n",
    "                dest_file_path = os.path.join(dest_dir, file_name).replace('.', f'_d{i}.')\n",
    "                shutil.copyfile(src_file_path, dest_file_path)"
   ]
  },
  {
   "cell_type": "code",
   "execution_count": 12,
   "metadata": {},
   "outputs": [
    {
     "name": "stdout",
     "output_type": "stream",
     "text": [
      "55000\n",
      "55000\n",
      "55000\n"
     ]
    }
   ],
   "source": [
    "print(len(os.listdir(detection_dir_big+'/Train/Images')))\n",
    "print(len(os.listdir(detection_dir_big+'/Train/Annotations-AABB')))\n",
    "print(len(os.listdir(detection_dir_big+'/Train/Annotations-QUAD')))"
   ]
  },
  {
   "cell_type": "code",
   "execution_count": 13,
   "metadata": {},
   "outputs": [
    {
     "name": "stdout",
     "output_type": "stream",
     "text": [
      "1200\n",
      "1200\n",
      "1200\n"
     ]
    }
   ],
   "source": [
    "print(len(os.listdir(detection_dir_big+'/Val/Images')))\n",
    "print(len(os.listdir(detection_dir_big+'/Val/Annotations-AABB')))\n",
    "print(len(os.listdir(detection_dir_big+'/Val/Annotations-QUAD')))"
   ]
  },
  {
   "cell_type": "code",
   "execution_count": 14,
   "metadata": {},
   "outputs": [
    {
     "name": "stdout",
     "output_type": "stream",
     "text": [
      "1200\n",
      "1200\n",
      "1200\n"
     ]
    }
   ],
   "source": [
    "print(len(os.listdir(detection_dir_big+'/Test/Images')))\n",
    "print(len(os.listdir(detection_dir_big+'/Test/Annotations-AABB')))\n",
    "print(len(os.listdir(detection_dir_big+'/Test/Annotations-QUAD')))"
   ]
  },
  {
   "cell_type": "code",
   "execution_count": null,
   "metadata": {},
   "outputs": [],
   "source": []
  }
 ],
 "metadata": {
  "kernelspec": {
   "display_name": "Python 3",
   "language": "python",
   "name": "python3"
  },
  "language_info": {
   "codemirror_mode": {
    "name": "ipython",
    "version": 3
   },
   "file_extension": ".py",
   "mimetype": "text/x-python",
   "name": "python",
   "nbconvert_exporter": "python",
   "pygments_lexer": "ipython3",
   "version": "3.7.6"
  }
 },
 "nbformat": 4,
 "nbformat_minor": 4
}
